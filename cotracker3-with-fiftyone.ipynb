{
 "cells": [
  {
   "cell_type": "code",
   "execution_count": 1,
   "id": "1745a859-71d4-4ec3-8ef3-027cabe786d4",
   "metadata": {},
   "outputs": [],
   "source": [
    "import os\n",
    "import torch\n",
    "import fiftyone as fo"
   ]
  },
  {
   "cell_type": "code",
   "execution_count": 2,
   "id": "8b7ab831",
   "metadata": {},
   "outputs": [],
   "source": [
    "from cotracker3_fiftyone_utils import main"
   ]
  },
  {
   "cell_type": "code",
   "execution_count": null,
   "id": "fb4c2e9d-0e85-4c10-81a2-827d0759bf87",
   "metadata": {},
   "outputs": [],
   "source": [
    "dataset = fo.Dataset.from_dir(\n",
    "    dataset_dir=\"./videos\",\n",
    "    dataset_type=fo.types.VideoDirectory,\n",
    "    name=\"cotracker3-fiftyone\"\n",
    "    )\n",
    "\n",
    "dataset.compute_metadata()"
   ]
  },
  {
   "cell_type": "code",
   "execution_count": null,
   "id": "28081e46",
   "metadata": {},
   "outputs": [],
   "source": [
    "main(dataset, batch_size=1, grid_size=40)"
   ]
  },
  {
   "cell_type": "code",
   "execution_count": 7,
   "id": "4765277b",
   "metadata": {},
   "outputs": [],
   "source": [
    "app_config = fo.app_config.copy()\n",
    "\n",
    "app_config.color_by = \"instance\"\n",
    "\n",
    "app_config.loop_videos = True"
   ]
  },
  {
   "cell_type": "code",
   "execution_count": null,
   "id": "f0758624",
   "metadata": {},
   "outputs": [],
   "source": [
    "fo.launch_app(dataset)"
   ]
  }
 ],
 "metadata": {
  "kernelspec": {
   "display_name": "Python 3 (ipykernel)",
   "language": "python",
   "name": "python3"
  },
  "language_info": {
   "codemirror_mode": {
    "name": "ipython",
    "version": 3
   },
   "file_extension": ".py",
   "mimetype": "text/x-python",
   "name": "python",
   "nbconvert_exporter": "python",
   "pygments_lexer": "ipython3",
   "version": "3.11.0"
  },
  "vscode": {
   "interpreter": {
    "hash": "5c3af07c9b62e9e5a46520c50c603ac08cca123627f098bd5ae6d6af0e7d15f9"
   }
  }
 },
 "nbformat": 4,
 "nbformat_minor": 5
}
